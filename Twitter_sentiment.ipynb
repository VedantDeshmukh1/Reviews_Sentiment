{
 "cells": [
  {
   "cell_type": "code",
   "execution_count": null,
   "id": "e33bb3c8",
   "metadata": {},
   "outputs": [],
   "source": [
    "!pip install transformers\n",
    "!pip install torch"
   ]
  },
  {
   "cell_type": "code",
   "execution_count": null,
   "id": "c9a2faa1",
   "metadata": {},
   "outputs": [],
   "source": [
    "import pandas as pd\n",
    "from pymongo import MongoClient"
   ]
  },
  {
   "cell_type": "code",
   "execution_count": null,
   "id": "c112653a",
   "metadata": {},
   "outputs": [],
   "source": [
    "df = pd.read_csv(\"test.csv\")\n",
    "sample = df[\"tweet\"][0]\n",
    "sample\n",
    "df"
   ]
  },
  {
   "cell_type": "code",
   "execution_count": null,
   "id": "336cd850",
   "metadata": {},
   "outputs": [],
   "source": [
    "client = MongoClient(\"mongodb://localhost:27017/SentimentAnalysis\")\n",
    "db = client[\"SentimentAnalysis\"]\n",
    "collection = db[\"tweets\"]"
   ]
  },
  {
   "cell_type": "code",
   "execution_count": null,
   "id": "03f5ffbc",
   "metadata": {},
   "outputs": [],
   "source": [
    "from transformers import RobertaTokenizer, RobertaForSequenceClassification\n",
    "import torch\n",
    "from scipy.special import softmax\n",
    "# Loading the pre-trained RoBERTa model and tokenizer\n",
    "model_name = f\"cardiffnlp/twitter-roberta-base-sentiment\"\n",
    "tokenizer = RobertaTokenizer.from_pretrained(model_name)\n",
    "model = RobertaForSequenceClassification.from_pretrained(model_name)\n",
    "\n",
    "#searching the database iteratively\n",
    "for tweet in collection.find():\n",
    "    tweet_text = tweet[\"tweet\"]\n",
    "    tweet_id = tweet[\"_id\"]\n",
    "    encoded_text = tokenizer(tweet_text, return_tensors='pt')\n",
    "    output = model(**encoded_text)\n",
    "    scores = output[0][0].detach().numpy()\n",
    "    scores = softmax(scores)\n",
    "    scores_dict = {\n",
    "    'Negative' : scores[0],\n",
    "    'Neutral' : scores[1],\n",
    "    'Positive' : scores[2]\n",
    "        }\n",
    "    max_value = None\n",
    "    max_keys = []\n",
    "\n",
    "    # Loop through the dictionary to find the maximum value and key(s)\n",
    "    for key, value in scores_dict.items():\n",
    "        if max_value is None or value > max_value:\n",
    "            max_value = value\n",
    "            max_keys = [key]\n",
    "        elif value == max_value:\n",
    "            max_keys.append(key)\n",
    "    sentiment_label = max_keys\n",
    "    #In the exisiting dataset now we will append the sentiments of the comments being pos,neg or neutral\n",
    "    collection.update_one(\n",
    "        {\"_id\": tweet_id},\n",
    "        {\"$set\": {\"sentiment\": sentiment_label[0]}}\n",
    "    )\n",
    "    "
   ]
  },
  {
   "cell_type": "code",
   "execution_count": null,
   "id": "caa0a4cb",
   "metadata": {},
   "outputs": [],
   "source": []
  }
 ],
 "metadata": {
  "kernelspec": {
   "display_name": "Python 3 (ipykernel)",
   "language": "python",
   "name": "python3"
  },
  "language_info": {
   "codemirror_mode": {
    "name": "ipython",
    "version": 3
   },
   "file_extension": ".py",
   "mimetype": "text/x-python",
   "name": "python",
   "nbconvert_exporter": "python",
   "pygments_lexer": "ipython3",
   "version": "3.9.13"
  }
 },
 "nbformat": 4,
 "nbformat_minor": 5
}
